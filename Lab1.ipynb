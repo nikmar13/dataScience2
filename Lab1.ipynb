{
 "cells": [
  {
   "cell_type": "code",
   "execution_count": 44,
   "metadata": {
    "ExecuteTime": {
     "end_time": "2020-09-17T09:15:58.771795Z",
     "start_time": "2020-09-17T09:15:58.759820Z"
    }
   },
   "outputs": [],
   "source": [
    "import numpy as np\n",
    "import math\n",
    "import random\n",
    "from simple_benchmark import benchmark"
   ]
  },
  {
   "cell_type": "code",
   "execution_count": 1,
   "metadata": {
    "ExecuteTime": {
     "end_time": "2020-09-17T08:01:13.805937Z",
     "start_time": "2020-09-17T08:01:13.790976Z"
    }
   },
   "outputs": [
    {
     "data": {
      "text/plain": [
       "4"
      ]
     },
     "execution_count": 1,
     "metadata": {},
     "output_type": "execute_result"
    }
   ],
   "source": [
    "2+2"
   ]
  },
  {
   "cell_type": "markdown",
   "metadata": {},
   "source": [
    "## 4"
   ]
  },
  {
   "cell_type": "code",
   "execution_count": 6,
   "metadata": {
    "ExecuteTime": {
     "end_time": "2020-09-17T08:05:41.197982Z",
     "start_time": "2020-09-17T08:05:41.191995Z"
    },
    "scrolled": true
   },
   "outputs": [
    {
     "name": "stdout",
     "output_type": "stream",
     "text": [
      "Wall time: 0 ns\n"
     ]
    },
    {
     "data": {
      "text/plain": [
       "4"
      ]
     },
     "execution_count": 6,
     "metadata": {},
     "output_type": "execute_result"
    }
   ],
   "source": [
    "%time 2+2"
   ]
  },
  {
   "cell_type": "code",
   "execution_count": 9,
   "metadata": {
    "ExecuteTime": {
     "end_time": "2020-09-17T08:09:07.646862Z",
     "start_time": "2020-09-17T08:09:07.640879Z"
    }
   },
   "outputs": [
    {
     "name": "stdout",
     "output_type": "stream",
     "text": [
      "Wall time: 0 ns\n"
     ]
    },
    {
     "data": {
      "text/plain": [
       "8"
      ]
     },
     "execution_count": 9,
     "metadata": {},
     "output_type": "execute_result"
    }
   ],
   "source": [
    "%%time \n",
    "n=2+2\n",
    "n*2"
   ]
  },
  {
   "cell_type": "code",
   "execution_count": 10,
   "metadata": {
    "ExecuteTime": {
     "end_time": "2020-09-17T08:11:13.018030Z",
     "start_time": "2020-09-17T08:11:12.872365Z"
    }
   },
   "outputs": [
    {
     "name": "stdout",
     "output_type": "stream",
     "text": [
      "Wall time: 39.9 ms\n"
     ]
    },
    {
     "data": {
      "text/plain": [
       "499999500000"
      ]
     },
     "execution_count": 10,
     "metadata": {},
     "output_type": "execute_result"
    }
   ],
   "source": [
    "n=10**6\n",
    "%time sum(range(n))"
   ]
  },
  {
   "cell_type": "code",
   "execution_count": 11,
   "metadata": {
    "ExecuteTime": {
     "end_time": "2020-09-17T08:12:13.042848Z",
     "start_time": "2020-09-17T08:12:12.982749Z"
    }
   },
   "outputs": [
    {
     "name": "stdout",
     "output_type": "stream",
     "text": [
      "Wall time: 54.1 ms\n"
     ]
    },
    {
     "data": {
      "text/plain": [
       "499999500000"
      ]
     },
     "execution_count": 11,
     "metadata": {},
     "output_type": "execute_result"
    }
   ],
   "source": [
    "%%time\n",
    "l=list(range(n))\n",
    "sum(l)"
   ]
  },
  {
   "cell_type": "markdown",
   "metadata": {},
   "source": [
    "## 5"
   ]
  },
  {
   "cell_type": "code",
   "execution_count": 12,
   "metadata": {
    "ExecuteTime": {
     "end_time": "2020-09-17T08:15:08.999773Z",
     "start_time": "2020-09-17T08:15:05.864333Z"
    }
   },
   "outputs": [
    {
     "name": "stdout",
     "output_type": "stream",
     "text": [
      "39 ms ± 12.1 ms per loop (mean ± std. dev. of 7 runs, 10 loops each)\n"
     ]
    }
   ],
   "source": [
    "n=10**6\n",
    "%timeit sum(range(n))"
   ]
  },
  {
   "cell_type": "code",
   "execution_count": 13,
   "metadata": {
    "ExecuteTime": {
     "end_time": "2020-09-17T08:15:54.182747Z",
     "start_time": "2020-09-17T08:15:48.932780Z"
    }
   },
   "outputs": [
    {
     "name": "stdout",
     "output_type": "stream",
     "text": [
      "65.3 ms ± 19.2 ms per loop (mean ± std. dev. of 7 runs, 10 loops each)\n"
     ]
    }
   ],
   "source": [
    "%%timeit\n",
    "l=list(range(n))\n",
    "sum(l)"
   ]
  },
  {
   "cell_type": "code",
   "execution_count": 14,
   "metadata": {
    "ExecuteTime": {
     "end_time": "2020-09-17T08:17:20.410100Z",
     "start_time": "2020-09-17T08:17:15.463567Z"
    }
   },
   "outputs": [
    {
     "name": "stdout",
     "output_type": "stream",
     "text": [
      "41.2 ms ± 14.4 ms per loop (mean ± std. dev. of 10 runs, 12 loops each)\n"
     ]
    }
   ],
   "source": [
    "n=10**6\n",
    "%timeit -r 10 -n 12 sum(range(n))"
   ]
  },
  {
   "cell_type": "code",
   "execution_count": 16,
   "metadata": {
    "ExecuteTime": {
     "end_time": "2020-09-17T08:28:44.979422Z",
     "start_time": "2020-09-17T08:28:37.811746Z"
    }
   },
   "outputs": [
    {
     "name": "stdout",
     "output_type": "stream",
     "text": [
      "58.6 ms ± 17.6 ms per loop (mean ± std. dev. of 10 runs, 12 loops each)\n"
     ]
    }
   ],
   "source": [
    "%%timeit -r 10 -n 12\n",
    "l=list(range(n))\n",
    "sum(l)"
   ]
  },
  {
   "cell_type": "markdown",
   "metadata": {},
   "source": [
    "## 6"
   ]
  },
  {
   "cell_type": "code",
   "execution_count": 17,
   "metadata": {
    "ExecuteTime": {
     "end_time": "2020-09-17T08:36:19.172924Z",
     "start_time": "2020-09-17T08:36:16.629626Z"
    }
   },
   "outputs": [
    {
     "name": "stdout",
     "output_type": "stream",
     "text": [
      "31 ms ± 67.7 µs per loop (mean ± std. dev. of 7 runs, 10 loops each)\n",
      "[0.3092630000001009, 0.3093380000000252, 0.31022140000004583, 0.3110378999999739, 0.30917109999973036, 0.3103448000001663, 0.3092458000000988]\n"
     ]
    }
   ],
   "source": [
    "n=10**6\n",
    "t=%timeit -o sum(range(n))\n",
    "print(t.all_runs)"
   ]
  },
  {
   "cell_type": "code",
   "execution_count": 18,
   "metadata": {
    "ExecuteTime": {
     "end_time": "2020-09-17T08:36:43.769532Z",
     "start_time": "2020-09-17T08:36:43.761536Z"
    }
   },
   "outputs": [
    {
     "data": {
      "text/plain": [
       "0.030917109999973037"
      ]
     },
     "execution_count": 18,
     "metadata": {},
     "output_type": "execute_result"
    }
   ],
   "source": [
    "t.best"
   ]
  },
  {
   "cell_type": "markdown",
   "metadata": {
    "ExecuteTime": {
     "end_time": "2020-09-17T08:38:00.528311Z",
     "start_time": "2020-09-17T08:38:00.520323Z"
    }
   },
   "source": [
    "## 7"
   ]
  },
  {
   "cell_type": "markdown",
   "metadata": {},
   "source": [
    "1)"
   ]
  },
  {
   "cell_type": "code",
   "execution_count": 22,
   "metadata": {
    "ExecuteTime": {
     "end_time": "2020-09-17T08:46:12.525627Z",
     "start_time": "2020-09-17T08:46:12.509969Z"
    }
   },
   "outputs": [
    {
     "name": "stdout",
     "output_type": "stream",
     "text": [
      "Wall time: 0 ns\n"
     ]
    },
    {
     "data": {
      "text/plain": [
       "0.8686709614860095"
      ]
     },
     "execution_count": 22,
     "metadata": {},
     "output_type": "execute_result"
    }
   ],
   "source": [
    "%time math.sinh(math.pi/4)"
   ]
  },
  {
   "cell_type": "code",
   "execution_count": 23,
   "metadata": {
    "ExecuteTime": {
     "end_time": "2020-09-17T08:48:11.016385Z",
     "start_time": "2020-09-17T08:48:10.988292Z"
    }
   },
   "outputs": [
    {
     "name": "stdout",
     "output_type": "stream",
     "text": [
      "Wall time: 0 ns\n"
     ]
    },
    {
     "data": {
      "text/plain": [
       "0.8686709614860095"
      ]
     },
     "execution_count": 23,
     "metadata": {},
     "output_type": "execute_result"
    }
   ],
   "source": [
    "%%time\n",
    "math.sinh(math.pi/4)"
   ]
  },
  {
   "cell_type": "code",
   "execution_count": 39,
   "metadata": {
    "ExecuteTime": {
     "end_time": "2020-09-17T09:07:24.749119Z",
     "start_time": "2020-09-17T09:07:21.254496Z"
    }
   },
   "outputs": [
    {
     "name": "stdout",
     "output_type": "stream",
     "text": [
      "320 ns ± 118 ns per loop (mean ± std. dev. of 10 runs, 1000000 loops each)\n"
     ]
    },
    {
     "data": {
      "text/plain": [
       "2.2375289999990856e-07"
      ]
     },
     "execution_count": 39,
     "metadata": {},
     "output_type": "execute_result"
    }
   ],
   "source": [
    "x1=%timeit -r 10 -o math.sinh(math.pi/4)\n",
    "x1.best"
   ]
  },
  {
   "cell_type": "code",
   "execution_count": 38,
   "metadata": {
    "ExecuteTime": {
     "end_time": "2020-09-17T09:07:04.429713Z",
     "start_time": "2020-09-17T09:06:59.544910Z"
    }
   },
   "outputs": [
    {
     "name": "stdout",
     "output_type": "stream",
     "text": [
      "460 ns ± 192 ns per loop (mean ± std. dev. of 10 runs, 1000000 loops each)\n"
     ]
    },
    {
     "data": {
      "text/plain": [
       "<TimeitResult : 460 ns ± 192 ns per loop (mean ± std. dev. of 10 runs, 1000000 loops each)>"
      ]
     },
     "execution_count": 38,
     "metadata": {},
     "output_type": "execute_result"
    }
   ],
   "source": [
    "%%timeit -r 10  \n",
    "math.sinh(math.pi/4)"
   ]
  },
  {
   "cell_type": "markdown",
   "metadata": {},
   "source": [
    "2)"
   ]
  },
  {
   "cell_type": "code",
   "execution_count": 29,
   "metadata": {
    "ExecuteTime": {
     "end_time": "2020-09-17T08:57:56.923670Z",
     "start_time": "2020-09-17T08:57:56.915692Z"
    }
   },
   "outputs": [],
   "source": [
    "n=10000"
   ]
  },
  {
   "cell_type": "code",
   "execution_count": 87,
   "metadata": {
    "ExecuteTime": {
     "end_time": "2020-09-17T12:41:27.192389Z",
     "start_time": "2020-09-17T12:41:27.176729Z"
    }
   },
   "outputs": [
    {
     "name": "stdout",
     "output_type": "stream",
     "text": [
      "Wall time: 0 ns\n"
     ]
    },
    {
     "data": {
      "text/plain": [
       "0.5220543866350802"
      ]
     },
     "execution_count": 87,
     "metadata": {},
     "output_type": "execute_result"
    }
   ],
   "source": [
    "%time math.sinh((1/n)* sum([random.random() for i in range(n)]))"
   ]
  },
  {
   "cell_type": "code",
   "execution_count": 40,
   "metadata": {
    "ExecuteTime": {
     "end_time": "2020-09-17T09:08:30.146135Z",
     "start_time": "2020-09-17T09:08:11.630556Z"
    }
   },
   "outputs": [
    {
     "name": "stdout",
     "output_type": "stream",
     "text": [
      "1.7 ms ± 424 µs per loop (mean ± std. dev. of 10 runs, 1000 loops each)\n"
     ]
    },
    {
     "data": {
      "text/plain": [
       "0.0009572125000004235"
      ]
     },
     "execution_count": 40,
     "metadata": {},
     "output_type": "execute_result"
    }
   ],
   "source": [
    "x2= %timeit -r 10 -o math.sinh((1/n)* sum([random.random() for i in range(n)]))\n",
    "x2.best"
   ]
  },
  {
   "cell_type": "code",
   "execution_count": 32,
   "metadata": {
    "ExecuteTime": {
     "end_time": "2020-09-17T09:00:05.706729Z",
     "start_time": "2020-09-17T09:00:05.694711Z"
    }
   },
   "outputs": [
    {
     "name": "stdout",
     "output_type": "stream",
     "text": [
      "Wall time: 0 ns\n"
     ]
    },
    {
     "data": {
      "text/plain": [
       "0.5163962199965388"
      ]
     },
     "execution_count": 32,
     "metadata": {},
     "output_type": "execute_result"
    }
   ],
   "source": [
    "%%time \n",
    "math.sinh(sum([random.random() for i in range(n)])/n)"
   ]
  },
  {
   "cell_type": "code",
   "execution_count": 88,
   "metadata": {
    "ExecuteTime": {
     "end_time": "2020-09-17T12:52:17.515709Z",
     "start_time": "2020-09-17T12:52:06.897368Z"
    }
   },
   "outputs": [
    {
     "name": "stdout",
     "output_type": "stream",
     "text": [
      "951 µs ± 54 µs per loop (mean ± std. dev. of 10 runs, 1000 loops each)\n"
     ]
    }
   ],
   "source": [
    "%%timeit -r 10 \n",
    "math.sinh(sum([random.random() for i in range(n)])/n)"
   ]
  },
  {
   "cell_type": "markdown",
   "metadata": {},
   "source": [
    "3)"
   ]
  },
  {
   "cell_type": "code",
   "execution_count": 34,
   "metadata": {
    "ExecuteTime": {
     "end_time": "2020-09-17T09:02:51.933313Z",
     "start_time": "2020-09-17T09:02:51.917204Z"
    }
   },
   "outputs": [
    {
     "name": "stdout",
     "output_type": "stream",
     "text": [
      "Wall time: 4 ms\n"
     ]
    },
    {
     "data": {
      "text/plain": [
       "0.5494769864533531"
      ]
     },
     "execution_count": 34,
     "metadata": {},
     "output_type": "execute_result"
    }
   ],
   "source": [
    "%time (sum([math.sinh(random.random()) for i in range(n)]))/n"
   ]
  },
  {
   "cell_type": "code",
   "execution_count": 81,
   "metadata": {
    "ExecuteTime": {
     "end_time": "2020-09-17T11:44:50.895553Z",
     "start_time": "2020-09-17T11:44:48.112055Z"
    }
   },
   "outputs": [
    {
     "name": "stdout",
     "output_type": "stream",
     "text": [
      "2.48 ms ± 35.5 µs per loop (mean ± std. dev. of 10 runs, 100 loops each)\n"
     ]
    },
    {
     "data": {
      "text/plain": [
       "0.002376223999999638"
      ]
     },
     "execution_count": 81,
     "metadata": {},
     "output_type": "execute_result"
    }
   ],
   "source": [
    "x3=%timeit -r 10 -o (sum([math.sinh(random.random()) for i in range(n)]))/n\n",
    "x3.best"
   ]
  },
  {
   "cell_type": "code",
   "execution_count": 36,
   "metadata": {
    "ExecuteTime": {
     "end_time": "2020-09-17T09:05:05.813999Z",
     "start_time": "2020-09-17T09:05:05.787073Z"
    }
   },
   "outputs": [
    {
     "name": "stdout",
     "output_type": "stream",
     "text": [
      "Wall time: 4 ms\n"
     ]
    },
    {
     "data": {
      "text/plain": [
       "0.5421207548651602"
      ]
     },
     "execution_count": 36,
     "metadata": {},
     "output_type": "execute_result"
    }
   ],
   "source": [
    "%%time\n",
    "(sum([math.sinh(random.random()) for i in range(n)]))/n"
   ]
  },
  {
   "cell_type": "code",
   "execution_count": 82,
   "metadata": {
    "ExecuteTime": {
     "end_time": "2020-09-17T11:49:52.351058Z",
     "start_time": "2020-09-17T11:49:49.586588Z"
    }
   },
   "outputs": [
    {
     "name": "stdout",
     "output_type": "stream",
     "text": [
      "2.48 ms ± 45.3 µs per loop (mean ± std. dev. of 10 runs, 100 loops each)\n"
     ]
    },
    {
     "data": {
      "text/plain": [
       "<TimeitResult : 2.48 ms ± 45.3 µs per loop (mean ± std. dev. of 10 runs, 100 loops each)>"
      ]
     },
     "execution_count": 82,
     "metadata": {},
     "output_type": "execute_result"
    }
   ],
   "source": [
    "%%timeit -r 10 \n",
    "(sum([math.sinh(random.random()) for i in range(n)]))/n"
   ]
  },
  {
   "cell_type": "markdown",
   "metadata": {},
   "source": [
    "| Вираз  | Автооцінювання  | %time  |%%time        | %timeit (min)   | %%timeit       |\n",
    "|:------:|:---------------:|:------:|:-----------: |:---------------:|:--------------:|\n",
    "| 1      | 16ms            |   0ns  |     0ns      | 223ns |460ns |\n",
    "| 2      | 20ms        |     0ns   |0ns     | 0.957ms |2.28ms |\n",
    "| 3      | 16ms        |   4ms    |4ms      | 2.46ms |3.93ms |"
   ]
  },
  {
   "cell_type": "markdown",
   "metadata": {},
   "source": [
    "## 10"
   ]
  },
  {
   "cell_type": "code",
   "execution_count": 58,
   "metadata": {
    "ExecuteTime": {
     "end_time": "2020-09-17T09:38:06.134428Z",
     "start_time": "2020-09-17T09:38:06.122444Z"
    }
   },
   "outputs": [],
   "source": [
    "def func2_list(n):\n",
    "      return math.sinh((1/n)* sum([random.random() for i in range(n)]))\n",
    "def func3_list(n):\n",
    "      return (1/n)*sum([math.sinh(random.random()) for i in range(n)])\n",
    "def func4_list(n):\n",
    "      return (1/n**2)*sum([sum([random.random() for i in range(n)]) for i in range(n)])"
   ]
  },
  {
   "cell_type": "markdown",
   "metadata": {},
   "source": [
    "## 11"
   ]
  },
  {
   "cell_type": "code",
   "execution_count": 60,
   "metadata": {
    "ExecuteTime": {
     "end_time": "2020-09-17T09:38:19.031954Z",
     "start_time": "2020-09-17T09:38:19.019971Z"
    }
   },
   "outputs": [],
   "source": [
    "def func2_np(n):\n",
    "      return np.sinh((1/n)*np.sum(np.random.rand(n)))\n",
    "def func3_np(n):\n",
    "      return (1/n)*np.sum(np.sinh(np.random.rand(n)))\n",
    "def func4_np(n):\n",
    "      return (1/n**2)*np.sum(np.random.rand(n,n))"
   ]
  },
  {
   "cell_type": "markdown",
   "metadata": {},
   "source": [
    "## 12"
   ]
  },
  {
   "cell_type": "code",
   "execution_count": 76,
   "metadata": {
    "ExecuteTime": {
     "end_time": "2020-09-17T10:03:09.137055Z",
     "start_time": "2020-09-17T10:02:45.101981Z"
    }
   },
   "outputs": [
    {
     "name": "stdout",
     "output_type": "stream",
     "text": [
      "            func2_list    func3_list  func2_np  func3_np\n",
      "1         8.471910e-07  8.526786e-07  0.000007  0.000006\n",
      "10        1.637288e-06  2.905882e-06  0.000007  0.000006\n",
      "100       9.250000e-06  2.280000e-05  0.000008  0.000008\n",
      "1000      9.450000e-05  2.331000e-04  0.000015  0.000028\n",
      "10000     9.237000e-04  2.322000e-03  0.000081  0.000215\n",
      "100000    9.852900e-03  2.352650e-02  0.000732  0.002654\n",
      "1000000   1.336583e-01  2.741681e-01  0.010869  0.027836\n",
      "10000000  1.383256e+00  2.809767e+00  0.115785  0.285193\n",
      "Wall time: 23.2 s\n"
     ]
    },
    {
     "data": {
      "image/png": "[encoded data removed]",
      "text/plain": [
       "<Figure size 432x288 with 1 Axes>"
      ]
     },
     "metadata": {
      "needs_background": "light"
     },
     "output_type": "display_data"
    }
   ],
   "source": [
    "%%time\n",
    "b = benchmark([func2_list,func3_list,func2_np,func3_np],\n",
    "              arguments = {10**i: 10**i for i in range(8)}, argument_name='n')\n",
    "print(b)\n",
    "b.plot()"
   ]
  },
  {
   "cell_type": "markdown",
   "metadata": {},
   "source": [
    "## 13"
   ]
  },
  {
   "cell_type": "code",
   "execution_count": 80,
   "metadata": {
    "ExecuteTime": {
     "end_time": "2020-09-17T10:15:37.172123Z",
     "start_time": "2020-09-17T10:14:46.053627Z"
    }
   },
   "outputs": [
    {
     "name": "stdout",
     "output_type": "stream",
     "text": [
      "         func2_list    func3_list  func4_list  func2_np  func3_np  func4_np\n",
      "1      8.505882e-07  8.486487e-07    0.000001  0.000007  0.000006  0.000006\n",
      "10     1.649153e-06  2.897059e-06    0.000014  0.000007  0.000006  0.000007\n",
      "100    9.200000e-06  2.265000e-05    0.000866  0.000008  0.000008  0.000080\n",
      "1000   9.360000e-05  2.306000e-04    0.093245  0.000015  0.000028  0.010857\n",
      "10000  9.186000e-04  2.293700e-03    9.129026  0.000173  0.000459  1.152494\n",
      "Wall time: 50.4 s\n"
     ]
    },
    {
     "data": {
      "image/png": "[encoded data removed]",
      "text/plain": [
       "<Figure size 432x288 with 1 Axes>"
      ]
     },
     "metadata": {
      "needs_background": "light"
     },
     "output_type": "display_data"
    }
   ],
   "source": [
    "%%time\n",
    "b = benchmark([func2_list,func3_list,func4_list,func2_np,func3_np,func4_np],\n",
    "              arguments = {10**i: 10**i for i in range(5)}, argument_name='n')\n",
    "print(b)\n",
    "b.plot()"
   ]
  }
 ],
 "metadata": {
  "kernelspec": {
   "display_name": "Python 3",
   "language": "python",
   "name": "python3"
  },
  "language_info": {
   "codemirror_mode": {
    "name": "ipython",
    "version": 3
   },
   "file_extension": ".py",
   "mimetype": "text/x-python",
   "name": "python",
   "nbconvert_exporter": "python",
   "pygments_lexer": "ipython3",
   "version": "3.8.3"
  }
 },
 "nbformat": 4,
 "nbformat_minor": 4
}
